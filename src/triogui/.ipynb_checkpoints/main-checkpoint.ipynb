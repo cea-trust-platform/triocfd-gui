{
 "cells": [
  {
   "cell_type": "code",
   "execution_count": 4,
   "id": "40a61fe7-67e9-468a-9d73-9403d7e0c5ba",
   "metadata": {},
   "outputs": [
    {
     "ename": "ImportError",
     "evalue": "cannot import name 'main' from 'ui.voila_main' (/volatile/catB/tm283032/triogui/src/triogui/ui/voila_main.py)",
     "output_type": "error",
     "traceback": [
      "\u001b[31m---------------------------------------------------------------------------\u001b[39m",
      "\u001b[31mImportError\u001b[39m                               Traceback (most recent call last)",
      "\u001b[36mCell\u001b[39m\u001b[36m \u001b[39m\u001b[32mIn[4]\u001b[39m\u001b[32m, line 1\u001b[39m\n\u001b[32m----> \u001b[39m\u001b[32m1\u001b[39m \u001b[38;5;28;01mfrom\u001b[39;00m\u001b[38;5;250m \u001b[39m\u001b[34;01mui\u001b[39;00m\u001b[34;01m.\u001b[39;00m\u001b[34;01mvoila_main\u001b[39;00m\u001b[38;5;250m \u001b[39m\u001b[38;5;28;01mimport\u001b[39;00m main\n",
      "\u001b[31mImportError\u001b[39m: cannot import name 'main' from 'ui.voila_main' (/volatile/catB/tm283032/triogui/src/triogui/ui/voila_main.py)"
     ]
    }
   ],
   "source": [
    "from ui.voila_main import main"
   ]
  },
  {
   "cell_type": "code",
   "execution_count": 2,
   "id": "6770f06b-862a-48f0-abc1-c74d373d64e4",
   "metadata": {},
   "outputs": [
    {
     "ename": "NameError",
     "evalue": "name 'main' is not defined",
     "output_type": "error",
     "traceback": [
      "\u001b[31m---------------------------------------------------------------------------\u001b[39m",
      "\u001b[31mNameError\u001b[39m                                 Traceback (most recent call last)",
      "\u001b[36mCell\u001b[39m\u001b[36m \u001b[39m\u001b[32mIn[2]\u001b[39m\u001b[32m, line 1\u001b[39m\n\u001b[32m----> \u001b[39m\u001b[32m1\u001b[39m \u001b[43mmain\u001b[49m()\n",
      "\u001b[31mNameError\u001b[39m: name 'main' is not defined"
     ]
    }
   ],
   "source": [
    "main()"
   ]
  }
 ],
 "metadata": {
  "kernelspec": {
   "display_name": "Python 3 (ipykernel)",
   "language": "python",
   "name": "python3"
  },
  "language_info": {
   "codemirror_mode": {
    "name": "ipython",
    "version": 3
   },
   "file_extension": ".py",
   "mimetype": "text/x-python",
   "name": "python",
   "nbconvert_exporter": "python",
   "pygments_lexer": "ipython3",
   "version": "3.12.5"
  }
 },
 "nbformat": 4,
 "nbformat_minor": 5
}
