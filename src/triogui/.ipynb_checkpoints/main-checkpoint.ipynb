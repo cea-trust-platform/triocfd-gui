{
 "cells": [
  {
   "cell_type": "code",
   "execution_count": 1,
   "id": "40a61fe7-67e9-468a-9d73-9403d7e0c5ba",
   "metadata": {},
   "outputs": [],
   "source": [
    "from ui.voila_main import main"
   ]
  },
  {
   "cell_type": "code",
   "execution_count": 2,
   "id": "6770f06b-862a-48f0-abc1-c74d373d64e4",
   "metadata": {},
   "outputs": [
    {
     "data": {
      "application/vnd.jupyter.widget-view+json": {
       "model_id": "fb379d6ab4ed42d99edb654b9dd762f7",
       "version_major": 2,
       "version_minor": 0
      },
      "text/plain": [
       "App(children=[AppBar(app=True, children=[Tabs(align_with_title=True, center_active=True, children=[Tab(childre…"
      ]
     },
     "execution_count": 2,
     "metadata": {},
     "output_type": "execute_result"
    }
   ],
   "source": [
    "main()"
   ]
  },
  {
   "cell_type": "code",
   "execution_count": 1,
   "id": "18b88761-d10a-422e-a0cb-b870c54f6b8f",
   "metadata": {},
   "outputs": [],
   "source": [
    "import ipyvuetify as v"
   ]
  },
  {
   "cell_type": "code",
   "execution_count": 2,
   "id": "8ebeb273-c755-43cb-8338-6df4900c3ca0",
   "metadata": {},
   "outputs": [],
   "source": [
    "select_with_tooltip = v.Tooltip(\n",
    "    bottom=True,\n",
    "    v_slots=[\n",
    "        {\n",
    "            \"name\": \"activator\",\n",
    "            \"variable\": \"tooltip\",\n",
    "            \"children\": v.Select(\n",
    "                items=[\"Read_med\", \"Read_file\", \"Read_file_bin\", \"Read_tgrid\"],\n",
    "                label=\"Type of the mesh\",\n",
    "                v_model=None,\n",
    "                v_on=\"tooltip.on\",  # Important : transférer l'événement\n",
    "            ),\n",
    "        }\n",
    "    ],\n",
    "    children=[\"Choisissez le type de maillage à lire\"]\n",
    ")"
   ]
  },
  {
   "cell_type": "code",
   "execution_count": 4,
   "id": "a525f801-31de-4b7a-b0e4-903481893281",
   "metadata": {},
   "outputs": [],
   "source": [
    "import ipyvuetify as v\n",
    "import ipywidgets as widgets\n",
    "\n",
    "# Variable pour stocker la sélection\n",
    "selected_mesh = widgets.Text(value=\"\")\n",
    "\n",
    "# Menu personnalisé avec tooltips\n",
    "mesh_menu = v.Menu(\n",
    "    v_slots=[\n",
    "        {\n",
    "            \"name\": \"activator\",\n",
    "            \"variable\": \"menu\",\n",
    "            \"children\": v.TextField(\n",
    "                label=\"Type of the mesh\",\n",
    "                v_model=\"\",\n",
    "                readonly=True,\n",
    "                append_icon=\"mdi-menu-down\",\n",
    "                v_on=\"menu.on\",\n",
    "            ),\n",
    "        }\n",
    "    ],\n",
    "    children=[\n",
    "        v.List(\n",
    "            children=[\n",
    "                v.Tooltip(\n",
    "                    right=True,\n",
    "                    v_slots=[\n",
    "                        {\n",
    "                            \"name\": \"activator\",\n",
    "                            \"variable\": \"tooltip\",\n",
    "                            \"children\": v.ListItem(\n",
    "                                children=[\n",
    "                                    v.ListItemContent(children=[\"Read_med\"])\n",
    "                                ],\n",
    "                                v_on=\"tooltip.on\",\n",
    "                            ),\n",
    "                        }\n",
    "                    ],\n",
    "                    children=[\"Format MED - Maillages EDF\"]\n",
    "                ),\n",
    "                v.Tooltip(\n",
    "                    right=True,\n",
    "                    v_slots=[\n",
    "                        {\n",
    "                            \"name\": \"activator\",\n",
    "                            \"variable\": \"tooltip\",\n",
    "                            \"children\": v.ListItem(\n",
    "                                children=[\n",
    "                                    v.ListItemContent(children=[\"Read_file\"])\n",
    "                                ],\n",
    "                                v_on=\"tooltip.on\",\n",
    "                            ),\n",
    "                        }\n",
    "                    ],\n",
    "                    children=[\"Lecture de fichier standard\"]\n",
    "                ),\n",
    "                # Répéter pour les autres éléments...\n",
    "            ]\n",
    "        )\n",
    "    ]\n",
    ")"
   ]
  },
  {
   "cell_type": "code",
   "execution_count": 9,
   "id": "4694bf60-6a50-4b55-b692-b65375b0ee16",
   "metadata": {},
   "outputs": [],
   "source": [
    "import ipyvuetify as v\n",
    "import trioapi as ta\n",
    "# Vos données (nombre inconnu d'éléments)\n",
    "subclass=ta.get_subclass(ta.trustify_gen_pyd.Pb_base.__name__)\n",
    "# Génération des ListItem avec tooltips\n",
    "list_items = []\n",
    "for item in subclass:\n",
    "    tooltip_item = v.Tooltip(\n",
    "        right=True,\n",
    "        v_slots=[\n",
    "            {\n",
    "                \"name\": \"activator\",\n",
    "                \"variable\": \"tooltip\",\n",
    "                \"children\": v.ListItem(\n",
    "                    children=[\n",
    "                        v.ListItemContent(children=[item.__name__])\n",
    "                    ],\n",
    "                    v_on=\"tooltip.on\",\n",
    "                ),\n",
    "            }\n",
    "        ],\n",
    "        children=[item.__doc]\n",
    "    )\n",
    "    list_items.append(tooltip_item)\n",
    "\n",
    "# Menu final\n",
    "mesh_menu = v.Menu(\n",
    "    v_slots=[\n",
    "        {\n",
    "            \"name\": \"activator\",\n",
    "            \"variable\": \"menu\",\n",
    "            \"children\": v.TextField(\n",
    "                label=\"Type of the mesh\",\n",
    "                v_model=\"\",\n",
    "                readonly=True,\n",
    "                append_icon=\"mdi-menu-down\",\n",
    "                v_on=\"menu.on\",\n",
    "            ),\n",
    "        }\n",
    "    ],\n",
    "    children=[\n",
    "        v.List(children=list_items)\n",
    "    ]\n",
    ")"
   ]
  },
  {
   "cell_type": "code",
   "execution_count": 10,
   "id": "b6a3e82c-845c-4063-83a8-70e3fc8c37c7",
   "metadata": {},
   "outputs": [
    {
     "data": {
      "application/vnd.jupyter.widget-view+json": {
       "model_id": "14781a0c172c4c4d90cf9bc307082975",
       "version_major": 2,
       "version_minor": 0
      },
      "text/plain": [
       "Menu(children=[List(children=[Tooltip(children=['Format MED - Maillages EDF'], layout=None, right=True, v_slot…"
      ]
     },
     "execution_count": 10,
     "metadata": {},
     "output_type": "execute_result"
    }
   ],
   "source": [
    "mesh_menu"
   ]
  },
  {
   "cell_type": "code",
   "execution_count": 11,
   "id": "05a52f46-04d8-47f9-bf2d-f43f693a3488",
   "metadata": {},
   "outputs": [
    {
     "data": {
      "text/plain": [
       "[trioapi.trustify_gen_pyd.Modele_rayo_semi_transp,\n",
       " trioapi.trustify_gen_pyd.Pb_avec_liste_conc,\n",
       " trioapi.trustify_gen_pyd.Pb_avec_passif,\n",
       " trioapi.trustify_gen_pyd.Pb_conduction,\n",
       " trioapi.trustify_gen_pyd.Pb_fronttracking_disc,\n",
       " trioapi.trustify_gen_pyd.Pb_hydraulique,\n",
       " trioapi.trustify_gen_pyd.Pb_hydraulique_ale,\n",
       " trioapi.trustify_gen_pyd.Pb_hydraulique_aposteriori,\n",
       " trioapi.trustify_gen_pyd.Pb_hydraulique_cloned_concentration,\n",
       " trioapi.trustify_gen_pyd.Pb_hydraulique_cloned_concentration_turbulent,\n",
       " trioapi.trustify_gen_pyd.Pb_hydraulique_concentration,\n",
       " trioapi.trustify_gen_pyd.Pb_hydraulique_concentration_scalaires_passifs,\n",
       " trioapi.trustify_gen_pyd.Pb_hydraulique_concentration_turbulent,\n",
       " trioapi.trustify_gen_pyd.Pb_hydraulique_concentration_turbulent_scalaires_passifs,\n",
       " trioapi.trustify_gen_pyd.Pb_hydraulique_list_concentration,\n",
       " trioapi.trustify_gen_pyd.Pb_hydraulique_list_concentration_turbulent,\n",
       " trioapi.trustify_gen_pyd.Pb_hydraulique_melange_binaire_qc,\n",
       " trioapi.trustify_gen_pyd.Pb_hydraulique_melange_binaire_turbulent_qc,\n",
       " trioapi.trustify_gen_pyd.Pb_hydraulique_melange_binaire_wc,\n",
       " trioapi.trustify_gen_pyd.Pb_hydraulique_sensibility,\n",
       " trioapi.trustify_gen_pyd.Pb_hydraulique_turbulent,\n",
       " trioapi.trustify_gen_pyd.Pb_hydraulique_turbulent_ale,\n",
       " trioapi.trustify_gen_pyd.Pb_multiphase,\n",
       " trioapi.trustify_gen_pyd.Pb_multiphase_enthalpie,\n",
       " trioapi.trustify_gen_pyd.Pb_multiphase_hem,\n",
       " trioapi.trustify_gen_pyd.Pb_phase_field,\n",
       " trioapi.trustify_gen_pyd.Pb_post,\n",
       " trioapi.trustify_gen_pyd.Pb_rayo_conduction,\n",
       " trioapi.trustify_gen_pyd.Pb_rayo_hydraulique,\n",
       " trioapi.trustify_gen_pyd.Pb_rayo_hydraulique_turbulent,\n",
       " trioapi.trustify_gen_pyd.Pb_rayo_thermohydraulique,\n",
       " trioapi.trustify_gen_pyd.Pb_rayo_thermohydraulique_qc,\n",
       " trioapi.trustify_gen_pyd.Pb_rayo_thermohydraulique_turbulent,\n",
       " trioapi.trustify_gen_pyd.Pb_rayo_thermohydraulique_turbulent_qc,\n",
       " trioapi.trustify_gen_pyd.Pb_thermohydraulique,\n",
       " trioapi.trustify_gen_pyd.Pb_thermohydraulique_cloned_concentration,\n",
       " trioapi.trustify_gen_pyd.Pb_thermohydraulique_cloned_concentration_turbulent,\n",
       " trioapi.trustify_gen_pyd.Pb_thermohydraulique_concentration,\n",
       " trioapi.trustify_gen_pyd.Pb_thermohydraulique_concentration_scalaires_passifs,\n",
       " trioapi.trustify_gen_pyd.Pb_thermohydraulique_concentration_turbulent,\n",
       " trioapi.trustify_gen_pyd.Pb_thermohydraulique_concentration_turbulent_scalaires_passifs,\n",
       " trioapi.trustify_gen_pyd.Pb_thermohydraulique_especes_qc,\n",
       " trioapi.trustify_gen_pyd.Pb_thermohydraulique_especes_turbulent_qc,\n",
       " trioapi.trustify_gen_pyd.Pb_thermohydraulique_especes_wc,\n",
       " trioapi.trustify_gen_pyd.Pb_thermohydraulique_list_concentration,\n",
       " trioapi.trustify_gen_pyd.Pb_thermohydraulique_list_concentration_turbulent,\n",
       " trioapi.trustify_gen_pyd.Pb_thermohydraulique_qc,\n",
       " trioapi.trustify_gen_pyd.Pb_thermohydraulique_scalaires_passifs,\n",
       " trioapi.trustify_gen_pyd.Pb_thermohydraulique_sensibility,\n",
       " trioapi.trustify_gen_pyd.Pb_thermohydraulique_turbulent,\n",
       " trioapi.trustify_gen_pyd.Pb_thermohydraulique_turbulent_qc,\n",
       " trioapi.trustify_gen_pyd.Pb_thermohydraulique_turbulent_scalaires_passifs,\n",
       " trioapi.trustify_gen_pyd.Pb_thermohydraulique_wc,\n",
       " trioapi.trustify_gen_pyd.Problem_read_generic]"
      ]
     },
     "execution_count": 11,
     "metadata": {},
     "output_type": "execute_result"
    }
   ],
   "source": [
    "subclass"
   ]
  },
  {
   "cell_type": "code",
   "execution_count": null,
   "id": "b030760f-c657-426a-8289-e78620f39965",
   "metadata": {},
   "outputs": [],
   "source": []
  },
  {
   "cell_type": "code",
   "execution_count": null,
   "id": "35b74c72-c338-4328-b49a-e5ff44c19774",
   "metadata": {},
   "outputs": [],
   "source": []
  }
 ],
 "metadata": {
  "kernelspec": {
   "display_name": "Python 3 (ipykernel)",
   "language": "python",
   "name": "python3"
  },
  "language_info": {
   "codemirror_mode": {
    "name": "ipython",
    "version": 3
   },
   "file_extension": ".py",
   "mimetype": "text/x-python",
   "name": "python",
   "nbconvert_exporter": "python",
   "pygments_lexer": "ipython3",
   "version": "3.12.5"
  }
 },
 "nbformat": 4,
 "nbformat_minor": 5
}
