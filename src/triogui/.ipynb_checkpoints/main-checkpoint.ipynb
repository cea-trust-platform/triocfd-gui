{
 "cells": [
  {
   "cell_type": "code",
   "execution_count": 1,
   "id": "40a61fe7-67e9-468a-9d73-9403d7e0c5ba",
   "metadata": {},
   "outputs": [],
   "source": [
    "from ui.voila_main import main"
   ]
  },
  {
   "cell_type": "code",
   "execution_count": 2,
   "id": "6770f06b-862a-48f0-abc1-c74d373d64e4",
   "metadata": {},
   "outputs": [
    {
     "data": {
      "application/vnd.jupyter.widget-view+json": {
       "model_id": "ab6d43039e364ebcb05a5d65655360f0",
       "version_major": 2,
       "version_minor": 0
      },
      "text/plain": [
       "App(children=[AppBar(app=True, children=[Tabs(align_with_title=True, center_active=True, children=[Tab(childre…"
      ]
     },
     "execution_count": 2,
     "metadata": {},
     "output_type": "execute_result"
    }
   ],
   "source": [
    "main()"
   ]
  },
  {
   "cell_type": "code",
   "execution_count": 1,
   "id": "178c9ee7-80c2-43a8-8cd2-18262bc732e0",
   "metadata": {},
   "outputs": [
    {
     "data": {
      "application/vnd.jupyter.widget-view+json": {
       "model_id": "8a25a0b2b9cb4263a834cf764507d19e",
       "version_major": 2,
       "version_minor": 0
      },
      "text/plain": [
       "FileUpload(value=(), description='Upload', multiple=True)"
      ]
     },
     "metadata": {},
     "output_type": "display_data"
    }
   ],
   "source": [
    "import ipywidgets as widgets\n",
    "from IPython.display import display\n",
    "\n",
    "upload = widgets.FileUpload(\n",
    "    accept='',  # tous les types de fichiers\n",
    "    multiple=True  # permet d'uploader plusieurs fichiers\n",
    ")\n",
    "\n",
    "def on_upload_change(change):\n",
    "    for filename in upload.value:\n",
    "        content = upload.value[filename]['content']\n",
    "        print(f\"Fichier reçu : {filename}, taille : {len(content)} octets\")\n",
    "\n",
    "upload.observe(on_upload_change, names='value')\n",
    "display(upload)"
   ]
  },
  {
   "cell_type": "code",
   "execution_count": null,
   "id": "d59b8dcf-0657-41e3-8571-7e64256c4d70",
   "metadata": {},
   "outputs": [],
   "source": []
  }
 ],
 "metadata": {
  "kernelspec": {
   "display_name": "Python 3 (ipykernel)",
   "language": "python",
   "name": "python3"
  },
  "language_info": {
   "codemirror_mode": {
    "name": "ipython",
    "version": 3
   },
   "file_extension": ".py",
   "mimetype": "text/x-python",
   "name": "python",
   "nbconvert_exporter": "python",
   "pygments_lexer": "ipython3",
   "version": "3.12.5"
  }
 },
 "nbformat": 4,
 "nbformat_minor": 5
}
