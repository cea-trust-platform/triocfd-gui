{
 "cells": [
  {
   "cell_type": "code",
   "execution_count": 1,
   "id": "40a61fe7-67e9-468a-9d73-9403d7e0c5ba",
   "metadata": {},
   "outputs": [],
   "source": [
    "from ui.voila_main import main"
   ]
  },
  {
   "cell_type": "code",
   "execution_count": 2,
   "id": "6770f06b-862a-48f0-abc1-c74d373d64e4",
   "metadata": {},
   "outputs": [
    {
     "data": {
      "application/vnd.jupyter.widget-view+json": {
       "model_id": "d4f9d52e02a840109b3fb9b92c7b653a",
       "version_major": 2,
       "version_minor": 0
      },
      "text/plain": [
       "App(children=[AppBar(app=True, children=[Tabs(align_with_title=True, center_active=True, children=[Tab(childre…"
      ]
     },
     "execution_count": 2,
     "metadata": {},
     "output_type": "execute_result"
    }
   ],
   "source": [
    "main()"
   ]
  }
 ],
 "metadata": {
  "kernelspec": {
   "display_name": "Python 3 (ipykernel)",
   "language": "python",
   "name": "python3"
  },
  "language_info": {
   "codemirror_mode": {
    "name": "ipython",
    "version": 3
   },
   "file_extension": ".py",
   "mimetype": "text/x-python",
   "name": "python",
   "nbconvert_exporter": "python",
   "pygments_lexer": "ipython3",
   "version": "3.12.3"
  }
 },
 "nbformat": 4,
 "nbformat_minor": 5
}
