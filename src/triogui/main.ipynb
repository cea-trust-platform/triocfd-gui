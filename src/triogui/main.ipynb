{
 "cells": [
  {
   "cell_type": "code",
   "execution_count": 1,
   "id": "40a61fe7-67e9-468a-9d73-9403d7e0c5ba",
   "metadata": {},
   "outputs": [],
   "source": [
    "from ui.voila_main import main"
   ]
  },
  {
   "cell_type": "code",
   "execution_count": 2,
   "id": "6770f06b-862a-48f0-abc1-c74d373d64e4",
   "metadata": {},
   "outputs": [
    {
     "data": {
      "application/vnd.jupyter.widget-view+json": {
       "model_id": "fb379d6ab4ed42d99edb654b9dd762f7",
       "version_major": 2,
       "version_minor": 0
      },
      "text/plain": [
       "App(children=[AppBar(app=True, children=[Tabs(align_with_title=True, center_active=True, children=[Tab(childre…"
      ]
     },
     "execution_count": 2,
     "metadata": {},
     "output_type": "execute_result"
    }
   ],
   "source": [
    "main()"
   ]
  },
  {
   "cell_type": "code",
   "execution_count": 1,
   "id": "18b88761-d10a-422e-a0cb-b870c54f6b8f",
   "metadata": {},
   "outputs": [],
   "source": [
    "import ipyvuetify as v"
   ]
  },
  {
   "cell_type": "code",
   "execution_count": 15,
   "id": "4694bf60-6a50-4b55-b692-b65375b0ee16",
   "metadata": {},
   "outputs": [],
   "source": [
    "import ipyvuetify as v\n",
    "import trioapi as ta\n",
    "# Vos données (nombre inconnu d'éléments)\n",
    "subclass=ta.get_subclass(ta.trustify_gen_pyd.Pb_base.__name__)\n",
    "# Génération des ListItem avec tooltips\n",
    "list_items = []\n",
    "for item in subclass:\n",
    "    tooltip_item = v.Tooltip(\n",
    "        right=True,\n",
    "        v_slots=[\n",
    "            {\n",
    "                \"name\": \"activator\",\n",
    "                \"variable\": \"tooltip\",\n",
    "                \"children\": v.ListItem(\n",
    "                    children=[\n",
    "                        v.ListItemContent(children=[item.__name__])\n",
    "                    ],\n",
    "                    v_on=\"tooltip.on\",\n",
    "                ),\n",
    "            }\n",
    "        ],\n",
    "        children=[item.__doc__]\n",
    "    )\n",
    "    list_items.append(tooltip_item)\n",
    "\n",
    "# Menu final\n",
    "mesh_menu = v.Menu(\n",
    "    v_slots=[\n",
    "        {\n",
    "            \"name\": \"activator\",\n",
    "            \"variable\": \"menu\",\n",
    "            \"children\": v.TextField(\n",
    "                label=\"Type of the problem\",\n",
    "                v_model=\"\",\n",
    "                readonly=True,\n",
    "                append_icon=\"mdi-menu-down\",\n",
    "                v_on=\"menu.on\",\n",
    "            ),\n",
    "        }\n",
    "    ],\n",
    "    children=[\n",
    "        v.List(children=list_items)\n",
    "    ]\n",
    ")"
   ]
  },
  {
   "cell_type": "code",
   "execution_count": 16,
   "id": "b6a3e82c-845c-4063-83a8-70e3fc8c37c7",
   "metadata": {},
   "outputs": [
    {
     "data": {
      "application/vnd.jupyter.widget-view+json": {
       "model_id": "f0c8b0e35bc14dd988f6e6b558977e47",
       "version_major": 2,
       "version_minor": 0
      },
      "text/plain": [
       "Menu(children=[List(children=[Tooltip(children=['\\n    Radiation model for semi transparent gas. The model sho…"
      ]
     },
     "execution_count": 16,
     "metadata": {},
     "output_type": "execute_result"
    }
   ],
   "source": [
    "mesh_menu"
   ]
  },
  {
   "cell_type": "code",
   "execution_count": 23,
   "id": "b030760f-c657-426a-8289-e78620f39965",
   "metadata": {},
   "outputs": [],
   "source": [
    "import ipyvuetify as v\n",
    "import trioapi as ta\n",
    "\n",
    "# Vos données\n",
    "subclass = ta.get_subclass(ta.trustify_gen_pyd.Pb_base.__name__)\n",
    "all_items = [{\"name\": item.__name__, \"doc\": item.__doc__} for item in subclass]\n",
    "\n",
    "# Variables pour le filtre\n",
    "search_text = v.TextField(\n",
    "    label=\"Rechercher...\",\n",
    "    v_model=\"\",\n",
    "    prepend_inner_icon=\"mdi-magnify\",\n",
    "    clearable=True,\n",
    "    dense=True,\n",
    "    style=\"margin: 8px;\"\n",
    ")\n",
    "\n",
    "# Liste filtrée (initialement toutes les données)\n",
    "filtered_list = v.List(children=[])\n",
    "\n",
    "def create_list_items(items_to_show):\n",
    "    \"\"\"Créer les items de liste avec tooltips\"\"\"\n",
    "    list_items = []\n",
    "    for item in items_to_show:\n",
    "        tooltip_item = v.Tooltip(\n",
    "            right=True,\n",
    "            v_slots=[\n",
    "                {\n",
    "                    \"name\": \"activator\",\n",
    "                    \"variable\": \"tooltip\",\n",
    "                    \"children\": v.ListItem(\n",
    "                        children=[\n",
    "                            v.ListItemContent(children=[item[\"name\"]])\n",
    "                        ],\n",
    "                        v_on=\"tooltip.on\",\n",
    "                    ),\n",
    "                }\n",
    "            ],\n",
    "            children=[item[\"doc\"]]\n",
    "        )\n",
    "        list_items.append(tooltip_item)\n",
    "    return list_items\n",
    "\n",
    "def filter_items(widget, event, data):\n",
    "    \"\"\"Filtrer les items selon le texte de recherche\"\"\"\n",
    "    search_term = data.lower() if data else \"\"\n",
    "    if search_term:\n",
    "        filtered_items = [\n",
    "            item for item in all_items \n",
    "            if search_term in item[\"name\"].lower()\n",
    "        ]\n",
    "    else:\n",
    "        filtered_items = all_items\n",
    "    \n",
    "    filtered_list.children = create_list_items(filtered_items)\n",
    "\n",
    "# Initialiser avec tous les items\n",
    "filtered_list.children = create_list_items(all_items)\n",
    "\n",
    "# Connecter le filtre\n",
    "search_text.on_event('input', filter_items)\n",
    "\n",
    "# Menu avec recherche\n",
    "mesh_menu = v.Menu(\n",
    "    max_height=\"400px\",\n",
    "    v_slots=[\n",
    "        {\n",
    "            \"name\": \"activator\",\n",
    "            \"variable\": \"menu\",\n",
    "            \"children\": v.TextField(\n",
    "                label=\"Type of the problem\",\n",
    "                v_model=\"\",\n",
    "                readonly=True,\n",
    "                append_icon=\"mdi-menu-down\",\n",
    "                v_on=\"menu.on\",\n",
    "            ),\n",
    "        }\n",
    "    ],\n",
    "    children=[\n",
    "        v.Container(\n",
    "            children=[\n",
    "                v.Divider(),\n",
    "                filtered_list\n",
    "            ],\n",
    "            style=\"max-height: 350px; overflow-y: auto;\"\n",
    "        )\n",
    "    ]\n",
    ")"
   ]
  },
  {
   "cell_type": "markdown",
   "id": "0acff731-8368-4e8d-9aad-0fbd3cb1b477",
   "metadata": {},
   "source": [
    "mesh_menu"
   ]
  },
  {
   "cell_type": "code",
   "execution_count": 24,
   "id": "828f1356-58aa-465f-8bf0-66848ace2295",
   "metadata": {},
   "outputs": [
    {
     "data": {
      "application/vnd.jupyter.widget-view+json": {
       "model_id": "9d1abbf2c7354223b9b6a9edcb65a7e2",
       "version_major": 2,
       "version_minor": 0
      },
      "text/plain": [
       "Menu(children=[Container(children=[Divider(layout=None), List(children=[Tooltip(children=['\\n    Radiation mod…"
      ]
     },
     "execution_count": 24,
     "metadata": {},
     "output_type": "execute_result"
    }
   ],
   "source": [
    "mesh_menu"
   ]
  },
  {
   "cell_type": "code",
   "execution_count": 26,
   "id": "0c24791c-09f2-4475-891d-4c69a96fac6c",
   "metadata": {},
   "outputs": [],
   "source": [
    "test=v.Select(items=['a','b','c'],v_model=None)"
   ]
  },
  {
   "cell_type": "code",
   "execution_count": 27,
   "id": "af330d34-a3bb-47ce-aaba-b1d4209462d6",
   "metadata": {},
   "outputs": [],
   "source": [
    "test.v_model='a'"
   ]
  },
  {
   "cell_type": "code",
   "execution_count": 28,
   "id": "9a53e350-a164-4298-867f-d4dca7d81c29",
   "metadata": {},
   "outputs": [
    {
     "data": {
      "application/vnd.jupyter.widget-view+json": {
       "model_id": "4db1116301c140839bf90a47cc7739f9",
       "version_major": 2,
       "version_minor": 0
      },
      "text/plain": [
       "Select(items=['a', 'b', 'c'], layout=None, v_model='a')"
      ]
     },
     "execution_count": 28,
     "metadata": {},
     "output_type": "execute_result"
    }
   ],
   "source": [
    "test"
   ]
  },
  {
   "cell_type": "code",
   "execution_count": null,
   "id": "e6540609-8fed-4eb9-afa9-d22e893079ca",
   "metadata": {},
   "outputs": [],
   "source": []
  }
 ],
 "metadata": {
  "kernelspec": {
   "display_name": "Python 3 (ipykernel)",
   "language": "python",
   "name": "python3"
  },
  "language_info": {
   "codemirror_mode": {
    "name": "ipython",
    "version": 3
   },
   "file_extension": ".py",
   "mimetype": "text/x-python",
   "name": "python",
   "nbconvert_exporter": "python",
   "pygments_lexer": "ipython3",
   "version": "3.12.5"
  }
 },
 "nbformat": 4,
 "nbformat_minor": 5
}
